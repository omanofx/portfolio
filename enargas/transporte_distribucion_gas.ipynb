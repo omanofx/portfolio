{
  "nbformat": 4,
  "nbformat_minor": 0,
  "metadata": {
    "colab": {
      "provenance": [],
      "authorship_tag": "ABX9TyOAuthW8WXN5rjtihH645Ty",
      "include_colab_link": true
    },
    "kernelspec": {
      "name": "python3",
      "display_name": "Python 3"
    },
    "language_info": {
      "name": "python"
    }
  },
  "cells": [
    {
      "cell_type": "markdown",
      "metadata": {
        "id": "view-in-github",
        "colab_type": "text"
      },
      "source": [
        "<a href=\"https://colab.research.google.com/github/omanofx/portfolio/blob/main/enargas/transporte_distribucion_gas.ipynb\" target=\"_parent\"><img src=\"https://colab.research.google.com/assets/colab-badge.svg\" alt=\"Open In Colab\"/></a>"
      ]
    },
    {
      "cell_type": "markdown",
      "source": [
        "Datos operativos de Transporte y Distribución de Gas\n",
        "2 - Datos Operativos de Gas Natural: Licenciatarias de Transporte\n",
        "02 - Gas Entregado por Transportistas\n",
        "\n",
        "https://www.enargas.gob.ar/secciones/transporte-y-distribucion/datos-operativos-subsec.php?sec=2&subsec=2&subsecord=02"
      ],
      "metadata": {
        "id": "83AAbUDQIv_M"
      }
    },
    {
      "cell_type": "code",
      "execution_count": null,
      "metadata": {
        "id": "BabhE1EtIuvj"
      },
      "outputs": [],
      "source": [
        "import pandas as pd\n",
        "\n",
        "# Leer el archivo Excel\n",
        "file_path = '/mnt/data/2010_0202010-Cuadro_II_2_1.xls'\n",
        "df = pd.read_excel(file_path)\n",
        "\n",
        "# Mostrar las primeras filas del DataFrame\n",
        "df.head()\n"
      ]
    },
    {
      "cell_type": "code",
      "source": [
        "import pandas as pd\n",
        "\n",
        "# Leer el archivo Excel especificando el motor 'xlrd'\n",
        "file_path = '/mnt/data/2010_0202010-Cuadro_II_2_1.xls'\n",
        "df = pd.read_excel(file_path, engine='xlrd')\n",
        "\n",
        "# Mostrar las primeras filas del DataFrame\n",
        "df.head()\n"
      ],
      "metadata": {
        "id": "OSwpdn-LKTlh"
      },
      "execution_count": null,
      "outputs": []
    }
  ]
}