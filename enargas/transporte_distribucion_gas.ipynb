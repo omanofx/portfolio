{
  "nbformat": 4,
  "nbformat_minor": 0,
  "metadata": {
    "colab": {
      "provenance": [],
      "authorship_tag": "ABX9TyOSIZuqTODuj7dVRUsgaBQ3",
      "include_colab_link": true
    },
    "kernelspec": {
      "name": "python3",
      "display_name": "Python 3"
    },
    "language_info": {
      "name": "python"
    }
  },
  "cells": [
    {
      "cell_type": "markdown",
      "metadata": {
        "id": "view-in-github",
        "colab_type": "text"
      },
      "source": [
        "<a href=\"https://colab.research.google.com/github/omanofx/portfolio/blob/main/enargas/transporte_distribucion_gas.ipynb\" target=\"_parent\"><img src=\"https://colab.research.google.com/assets/colab-badge.svg\" alt=\"Open In Colab\"/></a>"
      ]
    },
    {
      "cell_type": "markdown",
      "source": [
        "Datos operativos de Transporte y Distribución de Gas\n",
        "2 - Datos Operativos de Gas Natural: Licenciatarias de Transporte\n",
        "02 - Gas Entregado por Transportistas\n",
        "\n",
        "https://www.enargas.gob.ar/secciones/transporte-y-distribucion/datos-operativos-subsec.php?sec=2&subsec=2&subsecord=02"
      ],
      "metadata": {
        "id": "83AAbUDQIv_M"
      }
    },
    {
      "cell_type": "code",
      "source": [
        "!pip install requests pandas xlrd openpyxl"
      ],
      "metadata": {
        "colab": {
          "base_uri": "https://localhost:8080/"
        },
        "id": "P0cWx7N_MRvL",
        "outputId": "833257d0-c969-4ea9-ddd3-c850c6bf40e6"
      },
      "execution_count": 3,
      "outputs": [
        {
          "output_type": "stream",
          "name": "stdout",
          "text": [
            "Requirement already satisfied: requests in /usr/local/lib/python3.10/dist-packages (2.31.0)\n",
            "Requirement already satisfied: pandas in /usr/local/lib/python3.10/dist-packages (2.0.3)\n",
            "Requirement already satisfied: xlrd in /usr/local/lib/python3.10/dist-packages (2.0.1)\n",
            "Requirement already satisfied: openpyxl in /usr/local/lib/python3.10/dist-packages (3.1.5)\n",
            "Requirement already satisfied: charset-normalizer<4,>=2 in /usr/local/lib/python3.10/dist-packages (from requests) (3.3.2)\n",
            "Requirement already satisfied: idna<4,>=2.5 in /usr/local/lib/python3.10/dist-packages (from requests) (3.7)\n",
            "Requirement already satisfied: urllib3<3,>=1.21.1 in /usr/local/lib/python3.10/dist-packages (from requests) (2.0.7)\n",
            "Requirement already satisfied: certifi>=2017.4.17 in /usr/local/lib/python3.10/dist-packages (from requests) (2024.6.2)\n",
            "Requirement already satisfied: python-dateutil>=2.8.2 in /usr/local/lib/python3.10/dist-packages (from pandas) (2.8.2)\n",
            "Requirement already satisfied: pytz>=2020.1 in /usr/local/lib/python3.10/dist-packages (from pandas) (2023.4)\n",
            "Requirement already satisfied: tzdata>=2022.1 in /usr/local/lib/python3.10/dist-packages (from pandas) (2024.1)\n",
            "Requirement already satisfied: numpy>=1.21.0 in /usr/local/lib/python3.10/dist-packages (from pandas) (1.25.2)\n",
            "Requirement already satisfied: et-xmlfile in /usr/local/lib/python3.10/dist-packages (from openpyxl) (1.1.0)\n",
            "Requirement already satisfied: six>=1.5 in /usr/local/lib/python3.10/dist-packages (from python-dateutil>=2.8.2->pandas) (1.16.0)\n"
          ]
        }
      ]
    },
    {
      "cell_type": "code",
      "source": [
        "# Manipulación y análisis de datos\n",
        "import numpy as np\n",
        "import pandas as pd\n",
        "\n",
        "# Configuración adicional\n",
        "%matplotlib inline\n",
        "\n",
        "# Import warnings module\n",
        "import warnings\n",
        "warnings.filterwarnings('ignore')\n",
        "\n",
        "import requests\n",
        "import pandas as pd\n",
        "from io import BytesIO\n",
        "from urllib.parse import urljoin"
      ],
      "metadata": {
        "id": "_IG_LrCELWxF"
      },
      "execution_count": 5,
      "outputs": []
    },
    {
      "cell_type": "code",
      "source": [
        "# prompt: acceder al repositorio de github https://github.com/omanofx/portfolio/contents/enargas/files\n",
        "\n",
        "import requests\n",
        "\n",
        "url = 'https://api.github.com/repos/omanofx/portfolio/contents/enargas/files'\n",
        "\n",
        "response = requests.get(url)\n",
        "\n",
        "if response.status_code == 200:\n",
        "  # Parse the JSON response\n",
        "  data = response.json()\n",
        "\n",
        "  # Print the names of the files\n",
        "  for file in data:\n",
        "    print(file['name'])\n",
        "else:\n",
        "  print('Error: Failed to access the GitHub repository')\n"
      ],
      "metadata": {
        "colab": {
          "base_uri": "https://localhost:8080/"
        },
        "id": "YoxaFrp6TMOZ",
        "outputId": "7a681cb7-820c-4188-9577-b865efaa6962"
      },
      "execution_count": 36,
      "outputs": [
        {
          "output_type": "stream",
          "name": "stdout",
          "text": [
            "2010_0202010-Cuadro_II_2_1.xls\n",
            "2011_0202010-Cuadro_II_2_1.xls\n",
            "2012_0202010-Cuadro_II_2_1.xls\n",
            "2013_0202010-Cuadro_II_2_1.xls\n",
            "2014_0202010-Cuadro_II_2_1.xls\n",
            "2015_0202010-Cuadro_II_2_1.xls\n",
            "2016_0202010-Cuadro_II_2_1.xls\n",
            "2017_0202010-Cuadro_II_2_1.xls\n",
            "2018_0202010-Cuadro_II_2_1.xls\n",
            "2019_0202010-Cuadro_II_2_1.xls\n",
            "2020_0202010-Cuadro_II_2_1.xls\n",
            "2021_0202010-Cuadro_II_2_1.xls\n",
            "2022_0202010-Cuadro_II_2_1.xls\n",
            "2023_0202010-Cuadro_II_2_1.xls\n",
            "2024_0202010-Cuadro_II_2_1.xls\n",
            "readme.md\n"
          ]
        }
      ]
    },
    {
      "cell_type": "code",
      "source": [
        "# prompt: acceder al repositorio de github https://github.com/omanofx/portfolio/contents/enargas/files/ y descargar los archivos de ese directorio unicamente\n",
        "\n",
        "import requests\n",
        "\n",
        "url = 'https://api.github.com/repos/omanofx/portfolio/contents/enargas/files'\n",
        "\n",
        "response = requests.get(url)\n",
        "\n",
        "if response.status_code == 200:\n",
        "  # Parse the JSON response\n",
        "  data = response.json()\n",
        "\n",
        "  # Download each file\n",
        "  for file in data:\n",
        "    download_url = file['download_url']\n",
        "    file_name = file['name']\n",
        "\n",
        "    response = requests.get(download_url)\n",
        "\n",
        "    with open(file_name, 'wb') as f:\n",
        "      f.write(response.content)\n",
        "\n",
        "  print('Successfully downloaded all files from the GitHub repository')\n",
        "else:\n",
        "  print('Error: Failed to access the GitHub repository')\n"
      ],
      "metadata": {
        "colab": {
          "base_uri": "https://localhost:8080/"
        },
        "id": "VjoZkTQQT44Z",
        "outputId": "1c67645a-e1d3-4851-aac2-f38997ec24fc"
      },
      "execution_count": 44,
      "outputs": [
        {
          "output_type": "stream",
          "name": "stdout",
          "text": [
            "Successfully downloaded all files from the GitHub repository\n"
          ]
        }
      ]
    },
    {
      "cell_type": "code",
      "source": [
        "# Instalar el módulo xlrd\n",
        "!pip install xlrd\n",
        "\n",
        "# Leer el archivo Excel especificando el motor 'xlrd'\n",
        "import pandas as pd\n",
        "\n",
        "file_path = 'ruta/a/tu/archivo/2010_0202010-Cuadro_II_2_1.xls'\n",
        "df = pd.read_excel(file_path, engine='xlrd')\n",
        "\n",
        "# Mostrar las primeras filas del DataFrame\n",
        "df.head()\n"
      ],
      "metadata": {
        "id": "tsL_bQABMEbr"
      },
      "execution_count": null,
      "outputs": []
    }
  ]
}