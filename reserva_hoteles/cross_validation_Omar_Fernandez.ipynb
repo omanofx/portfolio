{
  "cells": [
    {
      "cell_type": "markdown",
      "metadata": {
        "id": "view-in-github",
        "colab_type": "text"
      },
      "source": [
        "<a href=\"https://colab.research.google.com/github/omanofx/entregable_1/blob/Proyecto_final_Omar_Fernandez/cross_validation_Omar_Fernandez.ipynb\" target=\"_parent\"><img src=\"https://colab.research.google.com/assets/colab-badge.svg\" alt=\"Open In Colab\"/></a>"
      ]
    },
    {
      "cell_type": "markdown",
      "metadata": {
        "id": "uhz8a5-Zm4UR"
      },
      "source": [
        "Aplicamos validación cruzada al dataset de hoteles ya procesado y depurado. Contiene todas las nuevas características creadas en el desafio de la clase 45."
      ]
    },
    {
      "cell_type": "markdown",
      "metadata": {
        "id": "xIwUvCCdSGnE"
      },
      "source": [
        "## Librerías"
      ]
    },
    {
      "cell_type": "code",
      "execution_count": 1,
      "metadata": {
        "id": "OgMAM8o6jfWe"
      },
      "outputs": [],
      "source": [
        "import numpy as np\n",
        "import pandas as pd\n",
        "\n",
        "# memory management\n",
        "import gc\n",
        "\n",
        "import warnings\n",
        "warnings.filterwarnings('ignore')\n",
        "\n",
        "from sklearn.model_selection import train_test_split, GridSearchCV, RandomizedSearchCV\n",
        "from sklearn.preprocessing import StandardScaler\n",
        "from sklearn.pipeline import Pipeline\n",
        "from sklearn.decomposition import PCA\n",
        "\n",
        "import xgboost as xgb\n",
        "\n",
        "from sklearn.metrics import mean_squared_error\n",
        "\n",
        "from sklearn.experimental import enable_halving_search_cv\n",
        "from sklearn.model_selection import HalvingGridSearchCV, HalvingRandomSearchCV\n",
        "from sklearn.linear_model import LogisticRegression\n",
        "from sklearn.metrics import accuracy_score, confusion_matrix, classification_report, mean_squared_error, r2_score\n",
        "\n",
        "from sklearn.ensemble import RandomForestClassifier, RandomForestRegressor, GradientBoostingClassifier\n",
        "from sklearn.tree import DecisionTreeClassifier"
      ]
    },
    {
      "cell_type": "markdown",
      "metadata": {
        "id": "xfIoB_HegL2b"
      },
      "source": [
        "## Funciones propias"
      ]
    },
    {
      "cell_type": "code",
      "execution_count": 2,
      "metadata": {
        "id": "YETtU19pi84H"
      },
      "outputs": [],
      "source": [
        "def tiene_espacios_en_blanco(columna: str):\n",
        "    return any(x.isspace() for x in columna)"
      ]
    },
    {
      "cell_type": "code",
      "execution_count": 3,
      "metadata": {
        "id": "O8qjIlpGnaTF"
      },
      "outputs": [],
      "source": [
        "# Definir la función analizar_dataframe\n",
        "def analizar_dataframe(df1: pd.DataFrame, porcentaje_tolerancia: float):\n",
        "    '''\n",
        "    ## Esta función se utiliza para comprobar la consistencia de los datos de un DataFrame\n",
        "    ### evita invocar a .info(), .isnull()\n",
        "    #### Porcentaje de tolerancia: valor porcentual que se tolera para los valores nulos de\n",
        "    #### cada caracteristica del dataset. Si el valor se encuentra por sobre la tolerancia,\n",
        "    #### se indica como 'BORRAR' la caracteristica.\n",
        "    '''\n",
        "    # Validar que porcentaje_tolerancia esté entre 0 y 100\n",
        "    if not (0 <= porcentaje_tolerancia <= 100):\n",
        "        print(\"Error: El porcentaje de tolerancia debe estar entre 0 y 100.\")\n",
        "        return\n",
        "\n",
        "    porcentaje_perdidos = df1.isnull().sum() * 100 / len(df1)\n",
        "    total_nulos = df1.isnull().sum()\n",
        "    tipo_dato = df1.dtypes\n",
        "    valores_no_nulos_por_columna = df1.count()\n",
        "    descripcion = df1.describe().transpose()\n",
        "\n",
        "    resultado_analisis = pd.DataFrame({\n",
        "        'Tipo de dato': tipo_dato,\n",
        "        'Total No nulos': valores_no_nulos_por_columna,\n",
        "        'Total nulos': total_nulos,\n",
        "        'Porcentaje Nulos': round(porcentaje_perdidos, 2),\n",
        "        'Borrar': np.where(porcentaje_perdidos > porcentaje_tolerancia, 'BORRAR', ''),\n",
        "        'Columna con Espacios': df1.columns.to_series().apply(lambda x: tiene_espacios_en_blanco(x))\n",
        "    })\n",
        "\n",
        "    # Agregar las columnas de la descripción al resultado_analisis\n",
        "    resultado_analisis = pd.concat([resultado_analisis, round(descripcion, 2)], axis=1)\n",
        "\n",
        "    estilo_resultado = (\n",
        "        resultado_analisis.style\n",
        "        .applymap(lambda x: 'background-color: red',\n",
        "                  subset=pd.IndexSlice[resultado_analisis['Porcentaje Nulos'] > porcentaje_tolerancia, 'Porcentaje Nulos'])\n",
        "        .background_gradient(cmap='Reds', subset=['Porcentaje Nulos'])\n",
        "        .applymap(lambda x: 'background-color: red' if x else '',\n",
        "                  subset=pd.IndexSlice[resultado_analisis['Columna con Espacios'], 'Columna con Espacios'])\n",
        "        .background_gradient(cmap='Reds', subset=['Columna con Espacios'])\n",
        "    )\n",
        "\n",
        "\n",
        "    return estilo_resultado"
      ]
    },
    {
      "cell_type": "code",
      "execution_count": 4,
      "metadata": {
        "id": "NI5hgjeaKrXC"
      },
      "outputs": [],
      "source": [
        "def calcular_precision_modelo(y_test, y_pred):\n",
        "  '''\n",
        "  ## Calcula la precisión del modelo\n",
        "  '''\n",
        "  accuracy_puntaje = accuracy_score(y_test, y_pred)\n",
        "\n",
        "  print(\"Precisión del modelo: {:.2f}%\".format(accuracy_puntaje * 100))\n",
        "\n",
        "  if accuracy_puntaje > 0.9:\n",
        "      print(\"El modelo tiene un alto rendimiento en la clasificación.\")\n",
        "  else:\n",
        "      print(\"El modelo podría necesitar mejoras para lograr un rendimiento más alto.\")"
      ]
    },
    {
      "cell_type": "markdown",
      "metadata": {
        "id": "SwccTerwlk4d"
      },
      "source": [
        "## Carga del Data set\n",
        "\n",
        "El dataset ya fue procesado, por lo cual no contiene valores perdidos. Además, contiene las nuevas caraterísticas que fueron añadidas en previos desafios."
      ]
    },
    {
      "cell_type": "code",
      "execution_count": null,
      "metadata": {
        "id": "XHPhDCxbv3gN"
      },
      "outputs": [],
      "source": [
        "#dataset procesado: última version 12-2-2024\n",
        "#df_reservas = pd.read_csv(\"https://raw.githubusercontent.com/omanofx/entregable_1/Proyecto_final_Omar_Fernandez/df_reservas_ya_procesado.csv\", sep = \",\")\n"
      ]
    },
    {
      "cell_type": "code",
      "source": [
        "df_reservas_numerico = pd.read_csv(\"reservas_foward.csv\")"
      ],
      "metadata": {
        "id": "IKlrTJeNIuUf"
      },
      "execution_count": 7,
      "outputs": []
    },
    {
      "cell_type": "code",
      "execution_count": 8,
      "metadata": {
        "id": "r2gUgnTwmbG4"
      },
      "outputs": [],
      "source": [
        "# Deja unicamente las características númericas ya que las categoricas fueron convertirdas con Label Enconder.\n",
        "df_reservas_numerico = df_reservas.select_dtypes(include='number').sample(5000) # limito el DF"
      ]
    },
    {
      "cell_type": "code",
      "execution_count": 9,
      "metadata": {
        "colab": {
          "base_uri": "https://localhost:8080/",
          "height": 668
        },
        "id": "QCgDIuhg97Ar",
        "outputId": "c6173072-0bd1-4789-856c-7ba12bf89059"
      },
      "outputs": [
        {
          "output_type": "execute_result",
          "data": {
            "text/plain": [
              "<pandas.io.formats.style.Styler at 0x79178c5fa4d0>"
            ],
            "text/html": [
              "<style type=\"text/css\">\n",
              "#T_465d5_row0_col3, #T_465d5_row0_col5, #T_465d5_row1_col3, #T_465d5_row1_col5, #T_465d5_row2_col3, #T_465d5_row2_col5, #T_465d5_row3_col3, #T_465d5_row3_col5, #T_465d5_row4_col3, #T_465d5_row4_col5, #T_465d5_row5_col3, #T_465d5_row5_col5, #T_465d5_row6_col3, #T_465d5_row6_col5, #T_465d5_row7_col3, #T_465d5_row7_col5, #T_465d5_row8_col3, #T_465d5_row8_col5, #T_465d5_row9_col3, #T_465d5_row9_col5, #T_465d5_row10_col3, #T_465d5_row10_col5, #T_465d5_row11_col3, #T_465d5_row11_col5, #T_465d5_row12_col3, #T_465d5_row12_col5, #T_465d5_row13_col3, #T_465d5_row13_col5, #T_465d5_row14_col3, #T_465d5_row14_col5, #T_465d5_row15_col3, #T_465d5_row15_col5, #T_465d5_row16_col3, #T_465d5_row16_col5, #T_465d5_row17_col3, #T_465d5_row17_col5 {\n",
              "  background-color: #fff5f0;\n",
              "  color: #000000;\n",
              "}\n",
              "</style>\n",
              "<table id=\"T_465d5\" class=\"dataframe\">\n",
              "  <thead>\n",
              "    <tr>\n",
              "      <th class=\"blank level0\" >&nbsp;</th>\n",
              "      <th id=\"T_465d5_level0_col0\" class=\"col_heading level0 col0\" >Tipo de dato</th>\n",
              "      <th id=\"T_465d5_level0_col1\" class=\"col_heading level0 col1\" >Total No nulos</th>\n",
              "      <th id=\"T_465d5_level0_col2\" class=\"col_heading level0 col2\" >Total nulos</th>\n",
              "      <th id=\"T_465d5_level0_col3\" class=\"col_heading level0 col3\" >Porcentaje Nulos</th>\n",
              "      <th id=\"T_465d5_level0_col4\" class=\"col_heading level0 col4\" >Borrar</th>\n",
              "      <th id=\"T_465d5_level0_col5\" class=\"col_heading level0 col5\" >Columna con Espacios</th>\n",
              "      <th id=\"T_465d5_level0_col6\" class=\"col_heading level0 col6\" >count</th>\n",
              "      <th id=\"T_465d5_level0_col7\" class=\"col_heading level0 col7\" >mean</th>\n",
              "      <th id=\"T_465d5_level0_col8\" class=\"col_heading level0 col8\" >std</th>\n",
              "      <th id=\"T_465d5_level0_col9\" class=\"col_heading level0 col9\" >min</th>\n",
              "      <th id=\"T_465d5_level0_col10\" class=\"col_heading level0 col10\" >25%</th>\n",
              "      <th id=\"T_465d5_level0_col11\" class=\"col_heading level0 col11\" >50%</th>\n",
              "      <th id=\"T_465d5_level0_col12\" class=\"col_heading level0 col12\" >75%</th>\n",
              "      <th id=\"T_465d5_level0_col13\" class=\"col_heading level0 col13\" >max</th>\n",
              "    </tr>\n",
              "  </thead>\n",
              "  <tbody>\n",
              "    <tr>\n",
              "      <th id=\"T_465d5_level0_row0\" class=\"row_heading level0 row0\" >total_pasajeros</th>\n",
              "      <td id=\"T_465d5_row0_col0\" class=\"data row0 col0\" >int64</td>\n",
              "      <td id=\"T_465d5_row0_col1\" class=\"data row0 col1\" >5000</td>\n",
              "      <td id=\"T_465d5_row0_col2\" class=\"data row0 col2\" >0</td>\n",
              "      <td id=\"T_465d5_row0_col3\" class=\"data row0 col3\" >0.000000</td>\n",
              "      <td id=\"T_465d5_row0_col4\" class=\"data row0 col4\" ></td>\n",
              "      <td id=\"T_465d5_row0_col5\" class=\"data row0 col5\" >False</td>\n",
              "      <td id=\"T_465d5_row0_col6\" class=\"data row0 col6\" >5000.000000</td>\n",
              "      <td id=\"T_465d5_row0_col7\" class=\"data row0 col7\" >2.000000</td>\n",
              "      <td id=\"T_465d5_row0_col8\" class=\"data row0 col8\" >0.000000</td>\n",
              "      <td id=\"T_465d5_row0_col9\" class=\"data row0 col9\" >2.000000</td>\n",
              "      <td id=\"T_465d5_row0_col10\" class=\"data row0 col10\" >2.000000</td>\n",
              "      <td id=\"T_465d5_row0_col11\" class=\"data row0 col11\" >2.000000</td>\n",
              "      <td id=\"T_465d5_row0_col12\" class=\"data row0 col12\" >2.000000</td>\n",
              "      <td id=\"T_465d5_row0_col13\" class=\"data row0 col13\" >2.000000</td>\n",
              "    </tr>\n",
              "    <tr>\n",
              "      <th id=\"T_465d5_level0_row1\" class=\"row_heading level0 row1\" >required_car_parking_spaces</th>\n",
              "      <td id=\"T_465d5_row1_col0\" class=\"data row1 col0\" >int64</td>\n",
              "      <td id=\"T_465d5_row1_col1\" class=\"data row1 col1\" >5000</td>\n",
              "      <td id=\"T_465d5_row1_col2\" class=\"data row1 col2\" >0</td>\n",
              "      <td id=\"T_465d5_row1_col3\" class=\"data row1 col3\" >0.000000</td>\n",
              "      <td id=\"T_465d5_row1_col4\" class=\"data row1 col4\" ></td>\n",
              "      <td id=\"T_465d5_row1_col5\" class=\"data row1 col5\" >False</td>\n",
              "      <td id=\"T_465d5_row1_col6\" class=\"data row1 col6\" >5000.000000</td>\n",
              "      <td id=\"T_465d5_row1_col7\" class=\"data row1 col7\" >0.090000</td>\n",
              "      <td id=\"T_465d5_row1_col8\" class=\"data row1 col8\" >0.290000</td>\n",
              "      <td id=\"T_465d5_row1_col9\" class=\"data row1 col9\" >0.000000</td>\n",
              "      <td id=\"T_465d5_row1_col10\" class=\"data row1 col10\" >0.000000</td>\n",
              "      <td id=\"T_465d5_row1_col11\" class=\"data row1 col11\" >0.000000</td>\n",
              "      <td id=\"T_465d5_row1_col12\" class=\"data row1 col12\" >0.000000</td>\n",
              "      <td id=\"T_465d5_row1_col13\" class=\"data row1 col13\" >1.000000</td>\n",
              "    </tr>\n",
              "    <tr>\n",
              "      <th id=\"T_465d5_level0_row2\" class=\"row_heading level0 row2\" >market_segment_le</th>\n",
              "      <td id=\"T_465d5_row2_col0\" class=\"data row2 col0\" >int64</td>\n",
              "      <td id=\"T_465d5_row2_col1\" class=\"data row2 col1\" >5000</td>\n",
              "      <td id=\"T_465d5_row2_col2\" class=\"data row2 col2\" >0</td>\n",
              "      <td id=\"T_465d5_row2_col3\" class=\"data row2 col3\" >0.000000</td>\n",
              "      <td id=\"T_465d5_row2_col4\" class=\"data row2 col4\" ></td>\n",
              "      <td id=\"T_465d5_row2_col5\" class=\"data row2 col5\" >False</td>\n",
              "      <td id=\"T_465d5_row2_col6\" class=\"data row2 col6\" >5000.000000</td>\n",
              "      <td id=\"T_465d5_row2_col7\" class=\"data row2 col7\" >3.150000</td>\n",
              "      <td id=\"T_465d5_row2_col8\" class=\"data row2 col8\" >1.250000</td>\n",
              "      <td id=\"T_465d5_row2_col9\" class=\"data row2 col9\" >0.000000</td>\n",
              "      <td id=\"T_465d5_row2_col10\" class=\"data row2 col10\" >3.000000</td>\n",
              "      <td id=\"T_465d5_row2_col11\" class=\"data row2 col11\" >4.000000</td>\n",
              "      <td id=\"T_465d5_row2_col12\" class=\"data row2 col12\" >4.000000</td>\n",
              "      <td id=\"T_465d5_row2_col13\" class=\"data row2 col13\" >4.000000</td>\n",
              "    </tr>\n",
              "    <tr>\n",
              "      <th id=\"T_465d5_level0_row3\" class=\"row_heading level0 row3\" >country_le</th>\n",
              "      <td id=\"T_465d5_row3_col0\" class=\"data row3 col0\" >int64</td>\n",
              "      <td id=\"T_465d5_row3_col1\" class=\"data row3 col1\" >5000</td>\n",
              "      <td id=\"T_465d5_row3_col2\" class=\"data row3 col2\" >0</td>\n",
              "      <td id=\"T_465d5_row3_col3\" class=\"data row3 col3\" >0.000000</td>\n",
              "      <td id=\"T_465d5_row3_col4\" class=\"data row3 col4\" ></td>\n",
              "      <td id=\"T_465d5_row3_col5\" class=\"data row3 col5\" >False</td>\n",
              "      <td id=\"T_465d5_row3_col6\" class=\"data row3 col6\" >5000.000000</td>\n",
              "      <td id=\"T_465d5_row3_col7\" class=\"data row3 col7\" >86.690000</td>\n",
              "      <td id=\"T_465d5_row3_col8\" class=\"data row3 col8\" >44.960000</td>\n",
              "      <td id=\"T_465d5_row3_col9\" class=\"data row3 col9\" >1.000000</td>\n",
              "      <td id=\"T_465d5_row3_col10\" class=\"data row3 col10\" >51.000000</td>\n",
              "      <td id=\"T_465d5_row3_col11\" class=\"data row3 col11\" >76.000000</td>\n",
              "      <td id=\"T_465d5_row3_col12\" class=\"data row3 col12\" >135.000000</td>\n",
              "      <td id=\"T_465d5_row3_col13\" class=\"data row3 col13\" >174.000000</td>\n",
              "    </tr>\n",
              "    <tr>\n",
              "      <th id=\"T_465d5_level0_row4\" class=\"row_heading level0 row4\" >total_of_special_requests</th>\n",
              "      <td id=\"T_465d5_row4_col0\" class=\"data row4 col0\" >int64</td>\n",
              "      <td id=\"T_465d5_row4_col1\" class=\"data row4 col1\" >5000</td>\n",
              "      <td id=\"T_465d5_row4_col2\" class=\"data row4 col2\" >0</td>\n",
              "      <td id=\"T_465d5_row4_col3\" class=\"data row4 col3\" >0.000000</td>\n",
              "      <td id=\"T_465d5_row4_col4\" class=\"data row4 col4\" ></td>\n",
              "      <td id=\"T_465d5_row4_col5\" class=\"data row4 col5\" >False</td>\n",
              "      <td id=\"T_465d5_row4_col6\" class=\"data row4 col6\" >5000.000000</td>\n",
              "      <td id=\"T_465d5_row4_col7\" class=\"data row4 col7\" >0.620000</td>\n",
              "      <td id=\"T_465d5_row4_col8\" class=\"data row4 col8\" >0.710000</td>\n",
              "      <td id=\"T_465d5_row4_col9\" class=\"data row4 col9\" >0.000000</td>\n",
              "      <td id=\"T_465d5_row4_col10\" class=\"data row4 col10\" >0.000000</td>\n",
              "      <td id=\"T_465d5_row4_col11\" class=\"data row4 col11\" >0.000000</td>\n",
              "      <td id=\"T_465d5_row4_col12\" class=\"data row4 col12\" >1.000000</td>\n",
              "      <td id=\"T_465d5_row4_col13\" class=\"data row4 col13\" >2.000000</td>\n",
              "    </tr>\n",
              "    <tr>\n",
              "      <th id=\"T_465d5_level0_row5\" class=\"row_heading level0 row5\" >lead_time</th>\n",
              "      <td id=\"T_465d5_row5_col0\" class=\"data row5 col0\" >int64</td>\n",
              "      <td id=\"T_465d5_row5_col1\" class=\"data row5 col1\" >5000</td>\n",
              "      <td id=\"T_465d5_row5_col2\" class=\"data row5 col2\" >0</td>\n",
              "      <td id=\"T_465d5_row5_col3\" class=\"data row5 col3\" >0.000000</td>\n",
              "      <td id=\"T_465d5_row5_col4\" class=\"data row5 col4\" ></td>\n",
              "      <td id=\"T_465d5_row5_col5\" class=\"data row5 col5\" >False</td>\n",
              "      <td id=\"T_465d5_row5_col6\" class=\"data row5 col6\" >5000.000000</td>\n",
              "      <td id=\"T_465d5_row5_col7\" class=\"data row5 col7\" >71.980000</td>\n",
              "      <td id=\"T_465d5_row5_col8\" class=\"data row5 col8\" >73.810000</td>\n",
              "      <td id=\"T_465d5_row5_col9\" class=\"data row5 col9\" >0.000000</td>\n",
              "      <td id=\"T_465d5_row5_col10\" class=\"data row5 col10\" >10.000000</td>\n",
              "      <td id=\"T_465d5_row5_col11\" class=\"data row5 col11\" >46.000000</td>\n",
              "      <td id=\"T_465d5_row5_col12\" class=\"data row5 col12\" >117.000000</td>\n",
              "      <td id=\"T_465d5_row5_col13\" class=\"data row5 col13\" >297.000000</td>\n",
              "    </tr>\n",
              "    <tr>\n",
              "      <th id=\"T_465d5_level0_row6\" class=\"row_heading level0 row6\" >adr</th>\n",
              "      <td id=\"T_465d5_row6_col0\" class=\"data row6 col0\" >float64</td>\n",
              "      <td id=\"T_465d5_row6_col1\" class=\"data row6 col1\" >5000</td>\n",
              "      <td id=\"T_465d5_row6_col2\" class=\"data row6 col2\" >0</td>\n",
              "      <td id=\"T_465d5_row6_col3\" class=\"data row6 col3\" >0.000000</td>\n",
              "      <td id=\"T_465d5_row6_col4\" class=\"data row6 col4\" ></td>\n",
              "      <td id=\"T_465d5_row6_col5\" class=\"data row6 col5\" >False</td>\n",
              "      <td id=\"T_465d5_row6_col6\" class=\"data row6 col6\" >5000.000000</td>\n",
              "      <td id=\"T_465d5_row6_col7\" class=\"data row6 col7\" >103.550000</td>\n",
              "      <td id=\"T_465d5_row6_col8\" class=\"data row6 col8\" >41.450000</td>\n",
              "      <td id=\"T_465d5_row6_col9\" class=\"data row6 col9\" >54.890000</td>\n",
              "      <td id=\"T_465d5_row6_col10\" class=\"data row6 col10\" >68.700000</td>\n",
              "      <td id=\"T_465d5_row6_col11\" class=\"data row6 col11\" >95.000000</td>\n",
              "      <td id=\"T_465d5_row6_col12\" class=\"data row6 col12\" >129.970000</td>\n",
              "      <td id=\"T_465d5_row6_col13\" class=\"data row6 col13\" >227.100000</td>\n",
              "    </tr>\n",
              "    <tr>\n",
              "      <th id=\"T_465d5_level0_row7\" class=\"row_heading level0 row7\" >booking_changes</th>\n",
              "      <td id=\"T_465d5_row7_col0\" class=\"data row7 col0\" >int64</td>\n",
              "      <td id=\"T_465d5_row7_col1\" class=\"data row7 col1\" >5000</td>\n",
              "      <td id=\"T_465d5_row7_col2\" class=\"data row7 col2\" >0</td>\n",
              "      <td id=\"T_465d5_row7_col3\" class=\"data row7 col3\" >0.000000</td>\n",
              "      <td id=\"T_465d5_row7_col4\" class=\"data row7 col4\" ></td>\n",
              "      <td id=\"T_465d5_row7_col5\" class=\"data row7 col5\" >False</td>\n",
              "      <td id=\"T_465d5_row7_col6\" class=\"data row7 col6\" >5000.000000</td>\n",
              "      <td id=\"T_465d5_row7_col7\" class=\"data row7 col7\" >0.200000</td>\n",
              "      <td id=\"T_465d5_row7_col8\" class=\"data row7 col8\" >0.490000</td>\n",
              "      <td id=\"T_465d5_row7_col9\" class=\"data row7 col9\" >0.000000</td>\n",
              "      <td id=\"T_465d5_row7_col10\" class=\"data row7 col10\" >0.000000</td>\n",
              "      <td id=\"T_465d5_row7_col11\" class=\"data row7 col11\" >0.000000</td>\n",
              "      <td id=\"T_465d5_row7_col12\" class=\"data row7 col12\" >0.000000</td>\n",
              "      <td id=\"T_465d5_row7_col13\" class=\"data row7 col13\" >2.000000</td>\n",
              "    </tr>\n",
              "    <tr>\n",
              "      <th id=\"T_465d5_level0_row8\" class=\"row_heading level0 row8\" >arrival_date_year</th>\n",
              "      <td id=\"T_465d5_row8_col0\" class=\"data row8 col0\" >int64</td>\n",
              "      <td id=\"T_465d5_row8_col1\" class=\"data row8 col1\" >5000</td>\n",
              "      <td id=\"T_465d5_row8_col2\" class=\"data row8 col2\" >0</td>\n",
              "      <td id=\"T_465d5_row8_col3\" class=\"data row8 col3\" >0.000000</td>\n",
              "      <td id=\"T_465d5_row8_col4\" class=\"data row8 col4\" ></td>\n",
              "      <td id=\"T_465d5_row8_col5\" class=\"data row8 col5\" >False</td>\n",
              "      <td id=\"T_465d5_row8_col6\" class=\"data row8 col6\" >5000.000000</td>\n",
              "      <td id=\"T_465d5_row8_col7\" class=\"data row8 col7\" >2016.220000</td>\n",
              "      <td id=\"T_465d5_row8_col8\" class=\"data row8 col8\" >0.690000</td>\n",
              "      <td id=\"T_465d5_row8_col9\" class=\"data row8 col9\" >2015.000000</td>\n",
              "      <td id=\"T_465d5_row8_col10\" class=\"data row8 col10\" >2016.000000</td>\n",
              "      <td id=\"T_465d5_row8_col11\" class=\"data row8 col11\" >2016.000000</td>\n",
              "      <td id=\"T_465d5_row8_col12\" class=\"data row8 col12\" >2017.000000</td>\n",
              "      <td id=\"T_465d5_row8_col13\" class=\"data row8 col13\" >2017.000000</td>\n",
              "    </tr>\n",
              "    <tr>\n",
              "      <th id=\"T_465d5_level0_row9\" class=\"row_heading level0 row9\" >distribution_channel_le</th>\n",
              "      <td id=\"T_465d5_row9_col0\" class=\"data row9 col0\" >int64</td>\n",
              "      <td id=\"T_465d5_row9_col1\" class=\"data row9 col1\" >5000</td>\n",
              "      <td id=\"T_465d5_row9_col2\" class=\"data row9 col2\" >0</td>\n",
              "      <td id=\"T_465d5_row9_col3\" class=\"data row9 col3\" >0.000000</td>\n",
              "      <td id=\"T_465d5_row9_col4\" class=\"data row9 col4\" ></td>\n",
              "      <td id=\"T_465d5_row9_col5\" class=\"data row9 col5\" >False</td>\n",
              "      <td id=\"T_465d5_row9_col6\" class=\"data row9 col6\" >5000.000000</td>\n",
              "      <td id=\"T_465d5_row9_col7\" class=\"data row9 col7\" >2.570000</td>\n",
              "      <td id=\"T_465d5_row9_col8\" class=\"data row9 col8\" >0.900000</td>\n",
              "      <td id=\"T_465d5_row9_col9\" class=\"data row9 col9\" >0.000000</td>\n",
              "      <td id=\"T_465d5_row9_col10\" class=\"data row9 col10\" >3.000000</td>\n",
              "      <td id=\"T_465d5_row9_col11\" class=\"data row9 col11\" >3.000000</td>\n",
              "      <td id=\"T_465d5_row9_col12\" class=\"data row9 col12\" >3.000000</td>\n",
              "      <td id=\"T_465d5_row9_col13\" class=\"data row9 col13\" >3.000000</td>\n",
              "    </tr>\n",
              "    <tr>\n",
              "      <th id=\"T_465d5_level0_row10\" class=\"row_heading level0 row10\" >stays_in_week_nights</th>\n",
              "      <td id=\"T_465d5_row10_col0\" class=\"data row10 col0\" >int64</td>\n",
              "      <td id=\"T_465d5_row10_col1\" class=\"data row10 col1\" >5000</td>\n",
              "      <td id=\"T_465d5_row10_col2\" class=\"data row10 col2\" >0</td>\n",
              "      <td id=\"T_465d5_row10_col3\" class=\"data row10 col3\" >0.000000</td>\n",
              "      <td id=\"T_465d5_row10_col4\" class=\"data row10 col4\" ></td>\n",
              "      <td id=\"T_465d5_row10_col5\" class=\"data row10 col5\" >False</td>\n",
              "      <td id=\"T_465d5_row10_col6\" class=\"data row10 col6\" >5000.000000</td>\n",
              "      <td id=\"T_465d5_row10_col7\" class=\"data row10 col7\" >2.320000</td>\n",
              "      <td id=\"T_465d5_row10_col8\" class=\"data row10 col8\" >1.470000</td>\n",
              "      <td id=\"T_465d5_row10_col9\" class=\"data row10 col9\" >0.000000</td>\n",
              "      <td id=\"T_465d5_row10_col10\" class=\"data row10 col10\" >1.000000</td>\n",
              "      <td id=\"T_465d5_row10_col11\" class=\"data row10 col11\" >2.000000</td>\n",
              "      <td id=\"T_465d5_row10_col12\" class=\"data row10 col12\" >3.000000</td>\n",
              "      <td id=\"T_465d5_row10_col13\" class=\"data row10 col13\" >6.000000</td>\n",
              "    </tr>\n",
              "    <tr>\n",
              "      <th id=\"T_465d5_level0_row11\" class=\"row_heading level0 row11\" >children</th>\n",
              "      <td id=\"T_465d5_row11_col0\" class=\"data row11 col0\" >int64</td>\n",
              "      <td id=\"T_465d5_row11_col1\" class=\"data row11 col1\" >5000</td>\n",
              "      <td id=\"T_465d5_row11_col2\" class=\"data row11 col2\" >0</td>\n",
              "      <td id=\"T_465d5_row11_col3\" class=\"data row11 col3\" >0.000000</td>\n",
              "      <td id=\"T_465d5_row11_col4\" class=\"data row11 col4\" ></td>\n",
              "      <td id=\"T_465d5_row11_col5\" class=\"data row11 col5\" >False</td>\n",
              "      <td id=\"T_465d5_row11_col6\" class=\"data row11 col6\" >5000.000000</td>\n",
              "      <td id=\"T_465d5_row11_col7\" class=\"data row11 col7\" >0.150000</td>\n",
              "      <td id=\"T_465d5_row11_col8\" class=\"data row11 col8\" >0.470000</td>\n",
              "      <td id=\"T_465d5_row11_col9\" class=\"data row11 col9\" >0.000000</td>\n",
              "      <td id=\"T_465d5_row11_col10\" class=\"data row11 col10\" >0.000000</td>\n",
              "      <td id=\"T_465d5_row11_col11\" class=\"data row11 col11\" >0.000000</td>\n",
              "      <td id=\"T_465d5_row11_col12\" class=\"data row11 col12\" >0.000000</td>\n",
              "      <td id=\"T_465d5_row11_col13\" class=\"data row11 col13\" >3.000000</td>\n",
              "    </tr>\n",
              "    <tr>\n",
              "      <th id=\"T_465d5_level0_row12\" class=\"row_heading level0 row12\" >mes_arribo_numero</th>\n",
              "      <td id=\"T_465d5_row12_col0\" class=\"data row12 col0\" >int64</td>\n",
              "      <td id=\"T_465d5_row12_col1\" class=\"data row12 col1\" >5000</td>\n",
              "      <td id=\"T_465d5_row12_col2\" class=\"data row12 col2\" >0</td>\n",
              "      <td id=\"T_465d5_row12_col3\" class=\"data row12 col3\" >0.000000</td>\n",
              "      <td id=\"T_465d5_row12_col4\" class=\"data row12 col4\" ></td>\n",
              "      <td id=\"T_465d5_row12_col5\" class=\"data row12 col5\" >False</td>\n",
              "      <td id=\"T_465d5_row12_col6\" class=\"data row12 col6\" >5000.000000</td>\n",
              "      <td id=\"T_465d5_row12_col7\" class=\"data row12 col7\" >6.510000</td>\n",
              "      <td id=\"T_465d5_row12_col8\" class=\"data row12 col8\" >3.060000</td>\n",
              "      <td id=\"T_465d5_row12_col9\" class=\"data row12 col9\" >1.000000</td>\n",
              "      <td id=\"T_465d5_row12_col10\" class=\"data row12 col10\" >4.000000</td>\n",
              "      <td id=\"T_465d5_row12_col11\" class=\"data row12 col11\" >7.000000</td>\n",
              "      <td id=\"T_465d5_row12_col12\" class=\"data row12 col12\" >9.000000</td>\n",
              "      <td id=\"T_465d5_row12_col13\" class=\"data row12 col13\" >12.000000</td>\n",
              "    </tr>\n",
              "    <tr>\n",
              "      <th id=\"T_465d5_level0_row13\" class=\"row_heading level0 row13\" >adults</th>\n",
              "      <td id=\"T_465d5_row13_col0\" class=\"data row13 col0\" >int64</td>\n",
              "      <td id=\"T_465d5_row13_col1\" class=\"data row13 col1\" >5000</td>\n",
              "      <td id=\"T_465d5_row13_col2\" class=\"data row13 col2\" >0</td>\n",
              "      <td id=\"T_465d5_row13_col3\" class=\"data row13 col3\" >0.000000</td>\n",
              "      <td id=\"T_465d5_row13_col4\" class=\"data row13 col4\" ></td>\n",
              "      <td id=\"T_465d5_row13_col5\" class=\"data row13 col5\" >False</td>\n",
              "      <td id=\"T_465d5_row13_col6\" class=\"data row13 col6\" >5000.000000</td>\n",
              "      <td id=\"T_465d5_row13_col7\" class=\"data row13 col7\" >1.890000</td>\n",
              "      <td id=\"T_465d5_row13_col8\" class=\"data row13 col8\" >0.490000</td>\n",
              "      <td id=\"T_465d5_row13_col9\" class=\"data row13 col9\" >1.000000</td>\n",
              "      <td id=\"T_465d5_row13_col10\" class=\"data row13 col10\" >2.000000</td>\n",
              "      <td id=\"T_465d5_row13_col11\" class=\"data row13 col11\" >2.000000</td>\n",
              "      <td id=\"T_465d5_row13_col12\" class=\"data row13 col12\" >2.000000</td>\n",
              "      <td id=\"T_465d5_row13_col13\" class=\"data row13 col13\" >4.000000</td>\n",
              "    </tr>\n",
              "    <tr>\n",
              "      <th id=\"T_465d5_level0_row14\" class=\"row_heading level0 row14\" >is_repeated_guest</th>\n",
              "      <td id=\"T_465d5_row14_col0\" class=\"data row14 col0\" >int64</td>\n",
              "      <td id=\"T_465d5_row14_col1\" class=\"data row14 col1\" >5000</td>\n",
              "      <td id=\"T_465d5_row14_col2\" class=\"data row14 col2\" >0</td>\n",
              "      <td id=\"T_465d5_row14_col3\" class=\"data row14 col3\" >0.000000</td>\n",
              "      <td id=\"T_465d5_row14_col4\" class=\"data row14 col4\" ></td>\n",
              "      <td id=\"T_465d5_row14_col5\" class=\"data row14 col5\" >False</td>\n",
              "      <td id=\"T_465d5_row14_col6\" class=\"data row14 col6\" >5000.000000</td>\n",
              "      <td id=\"T_465d5_row14_col7\" class=\"data row14 col7\" >0.040000</td>\n",
              "      <td id=\"T_465d5_row14_col8\" class=\"data row14 col8\" >0.180000</td>\n",
              "      <td id=\"T_465d5_row14_col9\" class=\"data row14 col9\" >0.000000</td>\n",
              "      <td id=\"T_465d5_row14_col10\" class=\"data row14 col10\" >0.000000</td>\n",
              "      <td id=\"T_465d5_row14_col11\" class=\"data row14 col11\" >0.000000</td>\n",
              "      <td id=\"T_465d5_row14_col12\" class=\"data row14 col12\" >0.000000</td>\n",
              "      <td id=\"T_465d5_row14_col13\" class=\"data row14 col13\" >1.000000</td>\n",
              "    </tr>\n",
              "    <tr>\n",
              "      <th id=\"T_465d5_level0_row15\" class=\"row_heading level0 row15\" >assigned_room_type_le</th>\n",
              "      <td id=\"T_465d5_row15_col0\" class=\"data row15 col0\" >int64</td>\n",
              "      <td id=\"T_465d5_row15_col1\" class=\"data row15 col1\" >5000</td>\n",
              "      <td id=\"T_465d5_row15_col2\" class=\"data row15 col2\" >0</td>\n",
              "      <td id=\"T_465d5_row15_col3\" class=\"data row15 col3\" >0.000000</td>\n",
              "      <td id=\"T_465d5_row15_col4\" class=\"data row15 col4\" ></td>\n",
              "      <td id=\"T_465d5_row15_col5\" class=\"data row15 col5\" >False</td>\n",
              "      <td id=\"T_465d5_row15_col6\" class=\"data row15 col6\" >5000.000000</td>\n",
              "      <td id=\"T_465d5_row15_col7\" class=\"data row15 col7\" >7.280000</td>\n",
              "      <td id=\"T_465d5_row15_col8\" class=\"data row15 col8\" >2.310000</td>\n",
              "      <td id=\"T_465d5_row15_col9\" class=\"data row15 col9\" >0.000000</td>\n",
              "      <td id=\"T_465d5_row15_col10\" class=\"data row15 col10\" >8.000000</td>\n",
              "      <td id=\"T_465d5_row15_col11\" class=\"data row15 col11\" >8.000000</td>\n",
              "      <td id=\"T_465d5_row15_col12\" class=\"data row15 col12\" >9.000000</td>\n",
              "      <td id=\"T_465d5_row15_col13\" class=\"data row15 col13\" >10.000000</td>\n",
              "    </tr>\n",
              "    <tr>\n",
              "      <th id=\"T_465d5_level0_row16\" class=\"row_heading level0 row16\" >reserved_room_type_le</th>\n",
              "      <td id=\"T_465d5_row16_col0\" class=\"data row16 col0\" >int64</td>\n",
              "      <td id=\"T_465d5_row16_col1\" class=\"data row16 col1\" >5000</td>\n",
              "      <td id=\"T_465d5_row16_col2\" class=\"data row16 col2\" >0</td>\n",
              "      <td id=\"T_465d5_row16_col3\" class=\"data row16 col3\" >0.000000</td>\n",
              "      <td id=\"T_465d5_row16_col4\" class=\"data row16 col4\" ></td>\n",
              "      <td id=\"T_465d5_row16_col5\" class=\"data row16 col5\" >False</td>\n",
              "      <td id=\"T_465d5_row16_col6\" class=\"data row16 col6\" >5000.000000</td>\n",
              "      <td id=\"T_465d5_row16_col7\" class=\"data row16 col7\" >6.580000</td>\n",
              "      <td id=\"T_465d5_row16_col8\" class=\"data row16 col8\" >1.690000</td>\n",
              "      <td id=\"T_465d5_row16_col9\" class=\"data row16 col9\" >0.000000</td>\n",
              "      <td id=\"T_465d5_row16_col10\" class=\"data row16 col10\" >7.000000</td>\n",
              "      <td id=\"T_465d5_row16_col11\" class=\"data row16 col11\" >7.000000</td>\n",
              "      <td id=\"T_465d5_row16_col12\" class=\"data row16 col12\" >7.000000</td>\n",
              "      <td id=\"T_465d5_row16_col13\" class=\"data row16 col13\" >8.000000</td>\n",
              "    </tr>\n",
              "    <tr>\n",
              "      <th id=\"T_465d5_level0_row17\" class=\"row_heading level0 row17\" >is_canceled</th>\n",
              "      <td id=\"T_465d5_row17_col0\" class=\"data row17 col0\" >int64</td>\n",
              "      <td id=\"T_465d5_row17_col1\" class=\"data row17 col1\" >5000</td>\n",
              "      <td id=\"T_465d5_row17_col2\" class=\"data row17 col2\" >0</td>\n",
              "      <td id=\"T_465d5_row17_col3\" class=\"data row17 col3\" >0.000000</td>\n",
              "      <td id=\"T_465d5_row17_col4\" class=\"data row17 col4\" ></td>\n",
              "      <td id=\"T_465d5_row17_col5\" class=\"data row17 col5\" >False</td>\n",
              "      <td id=\"T_465d5_row17_col6\" class=\"data row17 col6\" >5000.000000</td>\n",
              "      <td id=\"T_465d5_row17_col7\" class=\"data row17 col7\" >0.280000</td>\n",
              "      <td id=\"T_465d5_row17_col8\" class=\"data row17 col8\" >0.450000</td>\n",
              "      <td id=\"T_465d5_row17_col9\" class=\"data row17 col9\" >0.000000</td>\n",
              "      <td id=\"T_465d5_row17_col10\" class=\"data row17 col10\" >0.000000</td>\n",
              "      <td id=\"T_465d5_row17_col11\" class=\"data row17 col11\" >0.000000</td>\n",
              "      <td id=\"T_465d5_row17_col12\" class=\"data row17 col12\" >1.000000</td>\n",
              "      <td id=\"T_465d5_row17_col13\" class=\"data row17 col13\" >1.000000</td>\n",
              "    </tr>\n",
              "  </tbody>\n",
              "</table>\n"
            ]
          },
          "metadata": {},
          "execution_count": 9
        }
      ],
      "source": [
        "analizar_dataframe(df_reservas_numerico, porcentaje_tolerancia=0)"
      ]
    },
    {
      "cell_type": "code",
      "execution_count": 11,
      "metadata": {
        "colab": {
          "base_uri": "https://localhost:8080/"
        },
        "id": "kfVvlDD-KGFy",
        "outputId": "4735bdce-db1e-4e5e-9a3a-6de4843eedd7"
      },
      "outputs": [
        {
          "output_type": "stream",
          "name": "stdout",
          "text": [
            "Precisión del modelo: 72.60%\n",
            "El modelo podría necesitar mejoras para lograr un rendimiento más alto.\n"
          ]
        }
      ],
      "source": [
        "\n",
        "X = df_reservas_numerico.drop('is_canceled', axis=1)\n",
        "y = df_reservas_numerico['is_canceled']\n",
        "\n",
        "# Separación train/test\n",
        "X_train, X_test, y_train, y_test = train_test_split(X, y, test_size=0.3)\n",
        "\n",
        "model= xgb.XGBClassifier(learning_rate=0.001)\n",
        "\n",
        "# Ajustar modelo\n",
        "model.fit(X_train, y_train)\n",
        "\n",
        "# Predicciones\n",
        "predicciones = model.predict(X_test)\n",
        "\n",
        "# Llama a la función para calcular la precisión del modelo\n",
        "calcular_precision_modelo(y_test, predicciones )\n"
      ]
    },
    {
      "cell_type": "code",
      "execution_count": 12,
      "metadata": {
        "id": "-KlL4P9ZoyIY"
      },
      "outputs": [],
      "source": [
        "# Lista de hiperparametros\n",
        "params_1 = {'criterion': 'gini', 'splitter': 'best', 'max_depth': 5}\n",
        "params_2 = {'criterion': 'entropy', 'splitter': 'random', 'max_depth': 8}\n",
        "params_3 = {'criterion': 'gini', 'splitter': 'random', 'max_depth': 10}"
      ]
    },
    {
      "cell_type": "code",
      "execution_count": 13,
      "metadata": {
        "colab": {
          "base_uri": "https://localhost:8080/"
        },
        "id": "l1UAQX3Oox2F",
        "outputId": "c3d74b15-7aac-44d1-f177-8697cbc26dc7"
      },
      "outputs": [
        {
          "output_type": "stream",
          "name": "stdout",
          "text": [
            "Accuracy para Modelo 1 = 0.726\n",
            "Accuracy para Modelo 2 = 0.726\n",
            "Accuracy para Modelo 3 = 0.726\n"
          ]
        }
      ],
      "source": [
        "# Modelo 1\n",
        "model.set_params(**params_1).fit(X_train, y_train)\n",
        "print(f'Accuracy para Modelo 1 = {round(accuracy_score(y_test, model.predict(X_test)), 5)}')\n",
        "# Modelo 2\n",
        "model.set_params(**params_2).fit(X_train, y_train)\n",
        "print(f'Accuracy para Modelo 2 = {round(accuracy_score(y_test, model.predict(X_test)), 5)}')\n",
        "# Modelo 3\n",
        "model.set_params(**params_3).fit(X_train, y_train)\n",
        "print(f'Accuracy para Modelo 3 = {round(accuracy_score(y_test, model.predict(X_test)), 5)}')"
      ]
    },
    {
      "cell_type": "code",
      "execution_count": 14,
      "metadata": {
        "id": "26CExfFjpJAF"
      },
      "outputs": [],
      "source": [
        "params_grid = {\n",
        "        'min_child_weight': [1, 5, 10],\n",
        "        'gamma': [0.5, 1, 1.5, 2, 5],\n",
        "        'subsample': [0.6, 0.8, 1.0],\n",
        "        'colsample_bytree': [0.6, 0.8, 1.0],\n",
        "        'max_depth': [5,6,7],\n",
        "        'criterion':['entropy','gini']\n",
        "        }"
      ]
    },
    {
      "cell_type": "code",
      "execution_count": 15,
      "metadata": {
        "id": "zy2zGNUpvTz5"
      },
      "outputs": [],
      "source": [
        "# Función para buscar los hiperparametros\n",
        "def apply_search_cv(model, params_grid, X_train, y_train, X_test, y_test, search_method, cv_method, scoring=\"accuracy\", **kwargs):\n",
        "    grid_cv = search_method(model, params_grid, scoring=scoring, cv=cv_method, **kwargs)\n",
        "    grid_cv.fit(X_train, y_train)\n",
        "\n",
        "    print(\"Mejores parametros:\", grid_cv.best_params_)\n",
        "    print(\"Mejor score de CV:\", grid_cv.best_score_)\n",
        "    print(f'Accuracy del modelo: {round(accuracy_score(y_test, grid_cv.predict(X_test)), 5)}')\n"
      ]
    },
    {
      "cell_type": "code",
      "execution_count": 16,
      "metadata": {
        "colab": {
          "base_uri": "https://localhost:8080/"
        },
        "id": "r65-C-EsykOx",
        "outputId": "f997e54d-b3ee-4d2d-a4f9-ce6399025ce8"
      },
      "outputs": [
        {
          "output_type": "stream",
          "name": "stdout",
          "text": [
            "Mejores parametros: {'colsample_bytree': 0.6, 'criterion': 'entropy', 'gamma': 0.5, 'max_depth': 5, 'min_child_weight': 1, 'subsample': 0.6}\n",
            "Mejor score de CV: 0.7200001175846352\n",
            "Accuracy del modelo: 0.726\n",
            "\n",
            "Mejores parametros: {'colsample_bytree': 0.6, 'criterion': 'entropy', 'gamma': 0.5, 'max_depth': 5, 'min_child_weight': 1, 'subsample': 0.6}\n",
            "Mejor score de CV: 0.72\n",
            "Accuracy del modelo: 0.726\n"
          ]
        }
      ],
      "source": [
        "# Grid Search\n",
        "apply_search_cv(model, params_grid, X_train, y_train, X_test, y_test, search_method=GridSearchCV, cv_method=3)\n",
        "print()\n",
        "apply_search_cv(model, params_grid, X_train, y_train, X_test, y_test, search_method=GridSearchCV, cv_method=5)"
      ]
    },
    {
      "cell_type": "code",
      "execution_count": 19,
      "metadata": {
        "colab": {
          "base_uri": "https://localhost:8080/"
        },
        "id": "3HlHbKRHykL2",
        "outputId": "3ec2f9c4-81de-4c62-a5cc-9c484e46450f"
      },
      "outputs": [
        {
          "output_type": "stream",
          "name": "stdout",
          "text": [
            "Mejores parametros: {'subsample': 0.8, 'min_child_weight': 10, 'max_depth': 5, 'gamma': 0.5, 'criterion': 'gini', 'colsample_bytree': 1.0}\n",
            "Mejor score de CV: 0.72\n",
            "Accuracy del modelo: 0.726\n",
            "\n",
            "Mejores parametros: {'subsample': 0.8, 'min_child_weight': 1, 'max_depth': 7, 'gamma': 0.5, 'criterion': 'gini', 'colsample_bytree': 0.8}\n",
            "Mejor score de CV: 0.72\n",
            "Accuracy del modelo: 0.726\n"
          ]
        }
      ],
      "source": [
        "# Randomized Search CV\n",
        "apply_search_cv(model, params_grid, X_train, y_train, X_test, y_test, search_method=RandomizedSearchCV, cv_method=5)\n",
        "print()\n",
        "apply_search_cv(model, params_grid, X_train, y_train, X_test, y_test, search_method=RandomizedSearchCV, cv_method=10)"
      ]
    },
    {
      "cell_type": "code",
      "execution_count": 20,
      "metadata": {
        "colab": {
          "base_uri": "https://localhost:8080/"
        },
        "id": "m2OevLJSykI9",
        "outputId": "41bd0598-a453-45dc-9a9f-f6dc99b79ee8"
      },
      "outputs": [
        {
          "output_type": "stream",
          "name": "stdout",
          "text": [
            "Mejores parametros: {'colsample_bytree': 0.6, 'criterion': 'gini', 'gamma': 1.5, 'max_depth': 6, 'min_child_weight': 5, 'subsample': 1.0}\n",
            "Mejor score de CV: 0.7197530864197532\n",
            "Accuracy del modelo: 0.726\n"
          ]
        }
      ],
      "source": [
        "# Halving GridSearch CV\n",
        "apply_search_cv(model, params_grid, X_train, y_train, X_test, y_test, search_method=HalvingGridSearchCV, cv_method=5 ,factor=3)"
      ]
    },
    {
      "cell_type": "code",
      "execution_count": 21,
      "metadata": {
        "colab": {
          "base_uri": "https://localhost:8080/"
        },
        "id": "_RFU9-sDvkde",
        "outputId": "ddea944e-c2c7-41f1-ac20-1c468d56cc47"
      },
      "outputs": [
        {
          "output_type": "stream",
          "name": "stdout",
          "text": [
            "Mejores parametros: {'subsample': 1.0, 'min_child_weight': 1, 'max_depth': 5, 'gamma': 1, 'criterion': 'gini', 'colsample_bytree': 0.8}\n",
            "Mejor score de CV: 0.7221792225662194\n",
            "Accuracy del modelo: 0.726\n"
          ]
        }
      ],
      "source": [
        "# Halving Randomized Search\n",
        "apply_search_cv(model, params_grid, X_train, y_train, X_test, y_test, search_method=HalvingRandomSearchCV, cv_method=8, factor=3)"
      ]
    }
  ],
  "metadata": {
    "colab": {
      "collapsed_sections": [
        "xIwUvCCdSGnE",
        "xfIoB_HegL2b"
      ],
      "provenance": [],
      "include_colab_link": true
    },
    "kernelspec": {
      "display_name": "Python 3",
      "name": "python3"
    },
    "language_info": {
      "name": "python"
    }
  },
  "nbformat": 4,
  "nbformat_minor": 0
}