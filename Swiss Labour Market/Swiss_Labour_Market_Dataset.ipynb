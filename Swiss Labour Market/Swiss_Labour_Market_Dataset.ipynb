{
  "nbformat": 4,
  "nbformat_minor": 0,
  "metadata": {
    "colab": {
      "provenance": [],
      "authorship_tag": "ABX9TyMqLgVOywYOzm8eixvZJu0Y",
      "include_colab_link": true
    },
    "kernelspec": {
      "name": "python3",
      "display_name": "Python 3"
    },
    "language_info": {
      "name": "python"
    }
  },
  "cells": [
    {
      "cell_type": "markdown",
      "metadata": {
        "id": "view-in-github",
        "colab_type": "text"
      },
      "source": [
        "<a href=\"https://colab.research.google.com/github/omanofx/portfolio/blob/main/Swiss%20Labour%20Market/Swiss_Labour_Market_Dataset.ipynb\" target=\"_parent\"><img src=\"https://colab.research.google.com/assets/colab-badge.svg\" alt=\"Open In Colab\"/></a>"
      ]
    },
    {
      "cell_type": "markdown",
      "source": [
        "# Swiss Labour Market Dataset - Sample\n",
        "\n",
        "Lightcast offers unparalleled national and regional data and insights on the Swiss Labour Market. Our solution includes job postings IDs, occupations, skills classification and industry sectors. Dive even deeper to see salaries, company names, and job requirements such as education and experience level. The Swiss Labour Market dataset you will find in this product is based on ISCO08 and ESCO classification."
      ],
      "metadata": {
        "id": "30bCTrI2md9S"
      }
    },
    {
      "cell_type": "markdown",
      "source": [
        "# Instalar las bibliotecas necesarias\n",
        "Primero, necesitas instalar la biblioteca boto3, que es la biblioteca de Python para interactuar con los servicios de AWS, incluido S3."
      ],
      "metadata": {
        "id": "xKcTRfCHnH9W"
      }
    },
    {
      "cell_type": "code",
      "execution_count": null,
      "metadata": {
        "id": "54vTtYA-lRV7",
        "outputId": "f6d9c881-e9cc-45c5-e384-da0f11dac3c6",
        "colab": {
          "base_uri": "https://localhost:8080/"
        }
      },
      "outputs": [
        {
          "output_type": "stream",
          "name": "stdout",
          "text": [
            "Collecting boto3\n",
            "  Downloading boto3-1.35.23-py3-none-any.whl.metadata (6.6 kB)\n",
            "Collecting botocore<1.36.0,>=1.35.23 (from boto3)\n",
            "  Downloading botocore-1.35.23-py3-none-any.whl.metadata (5.7 kB)\n",
            "Collecting jmespath<2.0.0,>=0.7.1 (from boto3)\n",
            "  Downloading jmespath-1.0.1-py3-none-any.whl.metadata (7.6 kB)\n",
            "Collecting s3transfer<0.11.0,>=0.10.0 (from boto3)\n",
            "  Downloading s3transfer-0.10.2-py3-none-any.whl.metadata (1.7 kB)\n",
            "Requirement already satisfied: python-dateutil<3.0.0,>=2.1 in /usr/local/lib/python3.10/dist-packages (from botocore<1.36.0,>=1.35.23->boto3) (2.8.2)\n",
            "Requirement already satisfied: urllib3!=2.2.0,<3,>=1.25.4 in /usr/local/lib/python3.10/dist-packages (from botocore<1.36.0,>=1.35.23->boto3) (2.0.7)\n",
            "Requirement already satisfied: six>=1.5 in /usr/local/lib/python3.10/dist-packages (from python-dateutil<3.0.0,>=2.1->botocore<1.36.0,>=1.35.23->boto3) (1.16.0)\n",
            "Downloading boto3-1.35.23-py3-none-any.whl (139 kB)\n",
            "\u001b[2K   \u001b[90m━━━━━━━━━━━━━━━━━━━━━━━━━━━━━━━━━━━━━━━━\u001b[0m \u001b[32m139.2/139.2 kB\u001b[0m \u001b[31m3.1 MB/s\u001b[0m eta \u001b[36m0:00:00\u001b[0m\n",
            "\u001b[?25hDownloading botocore-1.35.23-py3-none-any.whl (12.6 MB)\n",
            "\u001b[2K   \u001b[90m━━━━━━━━━━━━━━━━━━━━━━━━━━━━━━━━━━━━━━━━\u001b[0m \u001b[32m12.6/12.6 MB\u001b[0m \u001b[31m49.3 MB/s\u001b[0m eta \u001b[36m0:00:00\u001b[0m\n",
            "\u001b[?25hDownloading jmespath-1.0.1-py3-none-any.whl (20 kB)\n",
            "Downloading s3transfer-0.10.2-py3-none-any.whl (82 kB)\n",
            "\u001b[2K   \u001b[90m━━━━━━━━━━━━━━━━━━━━━━━━━━━━━━━━━━━━━━━━\u001b[0m \u001b[32m82.7/82.7 kB\u001b[0m \u001b[31m4.2 MB/s\u001b[0m eta \u001b[36m0:00:00\u001b[0m\n",
            "\u001b[?25hInstalling collected packages: jmespath, botocore, s3transfer, boto3\n",
            "Successfully installed boto3-1.35.23 botocore-1.35.23 jmespath-1.0.1 s3transfer-0.10.2\n"
          ]
        }
      ],
      "source": [
        "!pip install boto3"
      ]
    },
    {
      "cell_type": "markdown",
      "source": [
        "# Configurar las credenciales de AWS\n",
        "Deberás proporcionar tus credenciales de AWS (ID de clave de acceso y clave de acceso secreta) para autenticarte. Puedes hacerlo directamente en el código o, preferiblemente, utilizando variables de entorno para mayor seguridad."
      ],
      "metadata": {
        "id": "U0wcHloMnFtm"
      }
    },
    {
      "cell_type": "code",
      "source": [
        "import boto3\n",
        "import os\n",
        "import pandas as pd\n",
        "import numpy as np"
      ],
      "metadata": {
        "id": "476NSHv7mzLQ"
      },
      "execution_count": null,
      "outputs": []
    },
    {
      "cell_type": "markdown",
      "source": [
        "# Acceder al bucket de S3\n",
        "Ahora puedes crear un cliente S3 y acceder a los datos en tu bucket."
      ],
      "metadata": {
        "id": "YiKCU2cZnBb2"
      }
    },
    {
      "cell_type": "code",
      "source": [
        "# Configura tus credenciales\n",
        "os.environ['AWS_ACCESS_KEY_ID'] = 'tu_id_de_clave_de_acceso'\n",
        "os.environ['AWS_SECRET_ACCESS_KEY'] = 'tu_clave_de_acceso_secreta'\n"
      ],
      "metadata": {
        "id": "0leSWJKTmuT3"
      },
      "execution_count": null,
      "outputs": []
    },
    {
      "cell_type": "code",
      "source": [
        "# Crear un cliente S3\n",
        "s3 = boto3.client('s3')\n",
        "\n",
        "# Listar los buckets disponibles\n",
        "response = s3.list_buckets()\n",
        "print(\"Buckets disponibles:\")\n",
        "for bucket in response['Buckets']:\n",
        "    print(f'  {bucket[\"Name\"]}')\n"
      ],
      "metadata": {
        "id": "bMdmZvTgm75f"
      },
      "execution_count": null,
      "outputs": []
    }
  ]
}