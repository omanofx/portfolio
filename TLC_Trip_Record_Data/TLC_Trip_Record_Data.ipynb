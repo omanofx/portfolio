{
  "nbformat": 4,
  "nbformat_minor": 0,
  "metadata": {
    "colab": {
      "provenance": [],
      "authorship_tag": "ABX9TyNyKjMzbKbdIexmkZJ7BWyw",
      "include_colab_link": true
    },
    "kernelspec": {
      "name": "python3",
      "display_name": "Python 3"
    },
    "language_info": {
      "name": "python"
    }
  },
  "cells": [
    {
      "cell_type": "markdown",
      "metadata": {
        "id": "view-in-github",
        "colab_type": "text"
      },
      "source": [
        "<a href=\"https://colab.research.google.com/github/omanofx/portfolio/blob/main/TLC_Trip_Record_Data/TLC_Trip_Record_Data.ipynb\" target=\"_parent\"><img src=\"https://colab.research.google.com/assets/colab-badge.svg\" alt=\"Open In Colab\"/></a>"
      ]
    },
    {
      "cell_type": "code",
      "execution_count": null,
      "metadata": {
        "id": "AjhuNKdNn4kw"
      },
      "outputs": [],
      "source": []
    },
    {
      "cell_type": "markdown",
      "source": [
        "# TLC Trip Record Data"
      ],
      "metadata": {
        "id": "_Ic4KuCon9wM"
      }
    },
    {
      "cell_type": "markdown",
      "source": [
        "Yellow and green taxi trip records include fields capturing pick-up and drop-off dates/times, pick-up and drop-off locations, trip distances, itemized fares, rate types, payment types, and driver-reported passenger counts. The data used in the attached datasets were collected and provided to the NYC Taxi and Limousine Commission (TLC) by technology providers authorized under the Taxicab & Livery Passenger Enhancement Programs (TPEP/LPEP). The trip data was not created by the TLC, and TLC makes no representations as to the accuracy of these data.\n",
        "\n",
        "For-Hire Vehicle (“FHV”) trip records include fields capturing the dispatching base license number and the pick-up date, time, and taxi zone location ID (shape file below). These records are generated from the FHV Trip Record submissions made by bases. Note: The TLC publishes base trip record data as submitted by the bases, and we cannot guarantee or confirm their accuracy or completeness. Therefore, this may not represent the total amount of trips dispatched by all TLC-licensed bases. The TLC performs routine reviews of the records and takes enforcement actions when necessary to ensure, to the extent possible, complete and accurate information.\n",
        "\n",
        "ATTENTION!\n",
        "\n",
        "On 05/13/2022, we are making the following changes to trip record files:\n",
        "\n",
        "    All files will be stored in the PARQUET format. Please see the ‘Working With PARQUET Format’ under the Data Dictionaries and MetaData section.\n",
        "    Trip data will be published monthly (with two months delay) instead of bi-annually.\n",
        "    HVFHV files will now include 17 more columns (please see High Volume FHV Trips Dictionary for details). Additional columns will be added to the old files as well. The earliest date to include additional columns: February 2019.\n",
        "    Yellow trip data will now include 1 additional column (‘airport_fee’, please see Yellow Trips Dictionary for details). The additional column will be added to the old files as well. The earliest date to include the additional column: January 2011.\n"
      ],
      "metadata": {
        "id": "PVcDBX4_n_kA"
      }
    },
    {
      "cell_type": "markdown",
      "source": [
        "https://aws.amazon.com/marketplace/pp/prodview-okyonroqg5b2u?sr=0-2&ref_=beagle&applicationId=AWSMPContessa#overview"
      ],
      "metadata": {
        "id": "Vad_SgqyowCI"
      }
    },
    {
      "cell_type": "markdown",
      "source": [
        "https://github.com/aws-samples/cloud-experiments/tree/master/experiments/notebooks/exploring-data"
      ],
      "metadata": {
        "id": "tmJS8rufrIYy"
      }
    },
    {
      "cell_type": "markdown",
      "source": [
        "https://www.nyc.gov/site/tlc/about/tlc-trip-record-data.page"
      ],
      "metadata": {
        "id": "2hEZ13zyn5ua"
      }
    }
  ]
}